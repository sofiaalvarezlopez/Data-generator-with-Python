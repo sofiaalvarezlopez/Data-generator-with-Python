{
 "cells": [
  {
   "cell_type": "code",
   "execution_count": 315,
   "metadata": {},
   "outputs": [],
   "source": [
    "import numpy as np\n",
    "import pandas as pd\n",
    "import random \n",
    "import time\n",
    "import datetime\n",
    "import csv\n",
    "import scipy.stats as stats"
   ]
  },
  {
   "cell_type": "code",
   "execution_count": 316,
   "metadata": {},
   "outputs": [],
   "source": [
    "idhorario = 185224"
   ]
  },
  {
   "cell_type": "code",
   "execution_count": 317,
   "metadata": {},
   "outputs": [],
   "source": [
    "estadias2017 = pd.read_csv(\"estadias-aleatorias-2017.csv\")\n",
    "fechaL2017 = estadias2017['FECHALLEGADA'].values\n",
    "fechaS2017 = estadias2017['FECHASALIDA'].values\n",
    "pagada2017 = estadias2017['PAGADO'].values\n",
    "idEstadia2017 = estadias2017['IDESTADIA'].values\n",
    "\n",
    "estadias2018 = pd.read_csv(\"estadias-aleatorias-2018.csv\")\n",
    "fechaL2018 = estadias2018['FECHALLEGADA'].values\n",
    "fechaS2018 = estadias2018['FECHASALIDA'].values\n",
    "pagada2018 = estadias2018['PAGADO'].values\n",
    "idEstadia2018 = estadias2018['IDESTADIA'].values\n",
    "\n",
    "estadias2019 = pd.read_csv(\"estadias-aleatorias-2019.csv\")\n",
    "fechaL2019 = estadias2019['FECHALLEGADA'].values\n",
    "fechaS2019 = estadias2019['FECHASALIDA'].values\n",
    "pagada2019 = estadias2019['PAGADO'].values\n",
    "idEstadia2019 = estadias2019['IDESTADIA'].values\n",
    "\n",
    "estadias2020 = pd.read_csv(\"estadias-aleatorias-2020.csv\")\n",
    "fechaL2020 = estadias2020['FECHALLEGADA'].values\n",
    "fechaS2020 = estadias2020['FECHASALIDA'].values\n",
    "pagada2020 = estadias2020['PAGADO'].values\n",
    "idEstadia2020 = estadias2020['IDESTADIA'].values\n",
    "\n",
    "estadias2021 = pd.read_csv(\"estadias-aleatorias-2021.csv\")\n",
    "fechaL2021 = estadias2021['FECHALLEGADA'].values\n",
    "fechaS2021 = estadias2021['FECHASALIDA'].values\n",
    "pagada2021 = estadias2021['PAGADO'].values\n",
    "idEstadia2021 = estadias2021['IDESTADIA'].values\n",
    "\n",
    "estadias2022 = pd.read_csv(\"estadias-aleatorias-2022.csv\")\n",
    "fechaL2022 = estadias2022['FECHALLEGADA'].values\n",
    "fechaS2022 = estadias2022['FECHASALIDA'].values\n",
    "pagada2022 = estadias2022['PAGADO'].values\n",
    "idEstadia2022 = estadias2022['IDESTADIA'].values\n",
    "\n",
    "\n",
    "estadias2023 = pd.read_csv(\"estadias-aleatorias-2023.csv\")\n",
    "fechaL2023 = estadias2023['FECHALLEGADA'].values\n",
    "fechaS2023 = estadias2023['FECHASALIDA'].values\n",
    "pagada2023 = estadias2023['PAGADO'].values\n",
    "idEstadia2023 = estadias2023['IDESTADIA'].values\n",
    "\n",
    "convenciones = pd.read_csv(\"convenciones.csv\")\n",
    "convencionesId = convenciones['IDCONVENCION'].values\n",
    "convCapacidad = convenciones['CAPACIDAD'].values\n",
    "convFechaInicio = convenciones['FECHAINICIO'].values\n",
    "convFechaFin = convenciones['FECHAFIN'].values\n",
    "pago = convenciones['PAGO'].values"
   ]
  },
  {
   "cell_type": "code",
   "execution_count": 318,
   "metadata": {},
   "outputs": [],
   "source": [
    "def strTimeProp(start, end, format, prop):\n",
    "\n",
    "    stime = time.mktime(time.strptime(start, format))\n",
    "    etime = time.mktime(time.strptime(end, format))\n",
    "\n",
    "    ptime = stime + prop * (etime - stime)\n",
    "\n",
    "    return time.strftime(format, time.localtime(ptime))\n",
    "\n",
    "\n",
    "def randomDate(start, end, prop):\n",
    "    return strTimeProp(start, end, '%d/%m/%Y', prop)\n",
    "\n",
    "\n",
    "def fin(start):\n",
    "    date_1 = datetime.datetime.strptime(start, '%d/%m/%Y')\n",
    "    end_date = date_1 + datetime.timedelta(days=random.randint(0, 1))\n",
    "    return end_date.strftime(\"%d/%m/%Y\")\n",
    "\n",
    "\n"
   ]
  },
  {
   "cell_type": "code",
   "execution_count": 319,
   "metadata": {},
   "outputs": [],
   "source": [
    "#idEstadias = [*idEstadia2017, *idEstadia2018, *idEstadia2019, *idEstadia2020, *idEstadia2021, *idEstadia2022, *idEstadia2023]"
   ]
  },
  {
   "cell_type": "code",
   "execution_count": 320,
   "metadata": {},
   "outputs": [
    {
     "name": "stdout",
     "output_type": "stream",
     "text": [
      "['17/09/2024', '08/08/2024', '16/10/2024', '26/06/2024', '04/12/2024', '09/08/2024', '27/01/2024', '08/07/2024', '19/06/2024', '03/11/2024', '10/10/2024', '09/02/2024', '15/02/2024', '19/06/2024', '27/07/2024', '05/04/2024', '23/02/2024', '10/12/2024', '24/08/2024', '24/08/2024', '18/12/2024', '12/06/2024', '18/11/2024', '23/05/2024', '08/06/2024', '30/08/2024', '11/07/2024', '21/06/2024', '28/10/2024', '31/01/2024', '16/10/2024', '04/10/2024', '21/01/2024', '26/07/2024', '19/08/2024', '25/04/2024', '24/07/2024', '15/07/2024', '12/05/2024', '03/11/2024', '18/12/2024', '11/01/2024', '19/12/2024', '21/02/2024', '26/07/2024', '14/01/2024', '28/08/2024', '06/11/2024', '16/09/2024', '01/04/2024', '12/08/2024', '16/03/2024', '09/11/2024', '23/10/2024', '03/02/2024', '22/03/2024', '23/08/2024', '08/03/2024', '13/07/2024', '19/08/2024', '08/11/2024', '22/07/2024', '02/05/2024', '23/04/2024', '04/10/2024', '29/06/2024', '01/03/2024', '11/12/2024', '09/09/2024', '03/01/2025', '18/05/2024', '21/12/2024', '13/01/2024', '08/05/2024', '14/02/2024', '14/12/2024', '31/08/2024', '09/06/2024', '20/11/2024', '04/10/2024', '29/12/2024', '12/10/2024', '04/03/2024', '14/05/2024', '28/07/2024', '19/10/2024', '31/01/2024', '06/03/2024', '04/05/2024', '02/03/2024', '04/02/2024', '20/02/2024', '09/10/2024', '26/06/2024', '18/09/2024', '23/03/2024', '09/02/2024', '04/12/2024', '21/03/2024', '14/12/2024', '01/03/2024', '26/08/2024', '04/05/2024', '04/10/2024', '29/06/2024', '07/02/2024', '23/04/2024', '09/04/2024', '13/11/2024', '07/05/2024', '26/05/2024', '06/07/2024', '12/09/2024', '12/01/2024', '26/08/2024', '16/01/2024', '07/04/2024', '30/06/2024', '25/11/2024', '26/03/2024', '07/08/2024', '06/03/2024', '17/04/2024', '02/03/2024', '23/12/2024', '02/10/2024', '10/09/2024', '12/02/2024', '28/11/2024', '18/08/2024', '30/05/2024', '10/02/2024', '09/08/2024', '14/10/2024', '05/11/2024', '14/07/2024', '05/07/2024', '01/09/2024', '22/05/2024', '09/05/2024', '18/05/2024', '11/10/2024', '15/02/2024', '02/11/2024', '06/04/2024', '17/09/2024', '29/06/2024', '26/06/2024', '30/07/2024', '24/08/2024', '09/11/2024', '07/02/2024', '23/06/2024', '18/11/2024', '01/03/2024', '24/05/2024', '20/12/2024', '29/09/2024', '05/09/2024', '05/05/2024', '04/04/2024', '25/04/2024', '05/02/2024', '06/04/2024', '05/06/2024', '03/05/2024', '03/02/2024', '29/06/2024', '14/02/2024', '12/09/2024', '24/08/2024', '17/10/2024', '24/08/2024', '02/09/2024', '20/07/2024', '01/10/2024', '27/11/2024', '23/07/2024', '28/06/2024', '09/01/2024', '20/02/2024', '19/05/2024', '11/11/2024', '23/10/2024', '19/06/2024', '13/08/2024', '01/02/2024', '26/09/2024', '31/03/2024', '04/01/2024', '24/08/2024', '22/07/2024', '25/11/2024', '26/10/2024', '19/12/2024', '15/08/2024', '16/07/2024', '02/08/2024', '24/06/2024', '15/02/2024']\n"
     ]
    }
   ],
   "source": [
    "cont = 0\n",
    "listaFechasInicio = []\n",
    "while(cont < len(convFechaInicio)):\n",
    "    fecha = randomDate(convFechaInicio[cont], convFechaFin[cont], random.random())\n",
    "    listaFechasInicio.append(fecha)\n",
    "    cont += 1\n",
    "print(listaFechasInicio)"
   ]
  },
  {
   "cell_type": "code",
   "execution_count": 321,
   "metadata": {},
   "outputs": [
    {
     "name": "stdout",
     "output_type": "stream",
     "text": [
      "['17/09/2024', '08/08/2024', '16/10/2024', '27/06/2024', '04/12/2024', '09/08/2024', '28/01/2024', '09/07/2024', '20/06/2024', '03/11/2024', '10/10/2024', '10/02/2024', '16/02/2024', '20/06/2024', '27/07/2024', '05/04/2024', '24/02/2024', '11/12/2024', '25/08/2024', '25/08/2024', '18/12/2024', '12/06/2024', '18/11/2024', '24/05/2024', '09/06/2024', '30/08/2024', '12/07/2024', '21/06/2024', '29/10/2024', '31/01/2024', '17/10/2024', '05/10/2024', '21/01/2024', '26/07/2024', '20/08/2024', '25/04/2024', '24/07/2024', '16/07/2024', '12/05/2024', '04/11/2024', '19/12/2024', '11/01/2024', '20/12/2024', '22/02/2024', '27/07/2024', '15/01/2024', '29/08/2024', '06/11/2024', '17/09/2024', '01/04/2024', '12/08/2024', '17/03/2024', '10/11/2024', '23/10/2024', '04/02/2024', '22/03/2024', '24/08/2024', '08/03/2024', '13/07/2024', '20/08/2024', '08/11/2024', '23/07/2024', '02/05/2024', '23/04/2024', '04/10/2024', '30/06/2024', '01/03/2024', '11/12/2024', '10/09/2024', '03/01/2025', '19/05/2024', '21/12/2024', '13/01/2024', '08/05/2024', '14/02/2024', '15/12/2024', '01/09/2024', '09/06/2024', '21/11/2024', '05/10/2024', '29/12/2024', '12/10/2024', '05/03/2024', '14/05/2024', '29/07/2024', '19/10/2024', '31/01/2024', '07/03/2024', '04/05/2024', '03/03/2024', '04/02/2024', '21/02/2024', '09/10/2024', '26/06/2024', '18/09/2024', '23/03/2024', '09/02/2024', '05/12/2024', '21/03/2024', '14/12/2024', '02/03/2024', '26/08/2024', '05/05/2024', '04/10/2024', '30/06/2024', '07/02/2024', '24/04/2024', '10/04/2024', '13/11/2024', '08/05/2024', '26/05/2024', '06/07/2024', '12/09/2024', '12/01/2024', '26/08/2024', '16/01/2024', '07/04/2024', '01/07/2024', '25/11/2024', '26/03/2024', '08/08/2024', '07/03/2024', '18/04/2024', '03/03/2024', '23/12/2024', '03/10/2024', '10/09/2024', '13/02/2024', '29/11/2024', '18/08/2024', '30/05/2024', '10/02/2024', '10/08/2024', '14/10/2024', '05/11/2024', '14/07/2024', '05/07/2024', '02/09/2024', '22/05/2024', '09/05/2024', '19/05/2024', '11/10/2024', '16/02/2024', '02/11/2024', '06/04/2024', '17/09/2024', '29/06/2024', '27/06/2024', '30/07/2024', '24/08/2024', '10/11/2024', '07/02/2024', '24/06/2024', '18/11/2024', '02/03/2024', '24/05/2024', '20/12/2024', '29/09/2024', '06/09/2024', '06/05/2024', '04/04/2024', '25/04/2024', '06/02/2024', '07/04/2024', '05/06/2024', '03/05/2024', '04/02/2024', '30/06/2024', '14/02/2024', '13/09/2024', '24/08/2024', '17/10/2024', '24/08/2024', '03/09/2024', '20/07/2024', '01/10/2024', '27/11/2024', '24/07/2024', '28/06/2024', '10/01/2024', '21/02/2024', '19/05/2024', '12/11/2024', '24/10/2024', '19/06/2024', '13/08/2024', '02/02/2024', '26/09/2024', '31/03/2024', '05/01/2024', '24/08/2024', '22/07/2024', '26/11/2024', '26/10/2024', '20/12/2024', '16/08/2024', '17/07/2024', '02/08/2024', '24/06/2024', '15/02/2024']\n"
     ]
    }
   ],
   "source": [
    "conti = 0\n",
    "listaFechasFin = []\n",
    "while(conti < len(listaFechasInicio)):\n",
    "    fecha = fin(listaFechasInicio[conti])\n",
    "    listaFechasFin.append(fecha)\n",
    "    conti += 1\n",
    "print(listaFechasFin)"
   ]
  },
  {
   "cell_type": "code",
   "execution_count": 322,
   "metadata": {},
   "outputs": [
    {
     "name": "stdout",
     "output_type": "stream",
     "text": [
      "200\n",
      "200\n"
     ]
    }
   ],
   "source": [
    "print(len(listaFechasInicio))\n",
    "print(len(listaFechasFin))"
   ]
  },
  {
   "cell_type": "code",
   "execution_count": 323,
   "metadata": {},
   "outputs": [],
   "source": [
    "#pagadas = [*pagada2017, *pagada2018, *pagada2019, *pagada2020, *pagada2021, *pagada2022, *pagada2023]"
   ]
  },
  {
   "cell_type": "code",
   "execution_count": 324,
   "metadata": {},
   "outputs": [
    {
     "data": {
      "text/plain": [
       "'Aquí ya tengo todas las estadias, con sus fechas de salida, llegada y pago'"
      ]
     },
     "execution_count": 324,
     "metadata": {},
     "output_type": "execute_result"
    }
   ],
   "source": [
    "\"\"\"Aquí ya tengo todas las estadias, con sus fechas de salida, llegada y pago\"\"\""
   ]
  },
  {
   "cell_type": "code",
   "execution_count": 325,
   "metadata": {},
   "outputs": [
    {
     "name": "stdout",
     "output_type": "stream",
     "text": [
      "92594\n",
      "92594\n",
      "92594\n",
      "92594\n"
     ]
    }
   ],
   "source": [
    "print (len(idEstadias))\n",
    "print (len(fechasLlegada))\n",
    "print (len(fechasSalida))\n",
    "print (len(pagadas))"
   ]
  },
  {
   "cell_type": "code",
   "execution_count": 326,
   "metadata": {},
   "outputs": [
    {
     "data": {
      "text/plain": [
       "13"
      ]
     },
     "execution_count": 326,
     "metadata": {},
     "output_type": "execute_result"
    }
   ],
   "source": [
    "\"\"\"Aquí voy a sacar una hora inicio para cada horario \"\"\"\n",
    "def horaInicio(): \n",
    "    return random.randint(0, 23)\n",
    "horaInicio()"
   ]
  },
  {
   "cell_type": "code",
   "execution_count": 327,
   "metadata": {},
   "outputs": [
    {
     "data": {
      "text/plain": [
       "22"
      ]
     },
     "execution_count": 327,
     "metadata": {},
     "output_type": "execute_result"
    }
   ],
   "source": [
    "\"\"\"Aquí voy a sacar una hora fin para cada horario \"\"\"\n",
    "def horaFin(): \n",
    "    return random.randint(horaInicio(), 24)\n",
    "horaFin()"
   ]
  },
  {
   "cell_type": "code",
   "execution_count": 328,
   "metadata": {},
   "outputs": [],
   "source": [
    "\"\"\"Estos son los servicios del hotel que puedo facturar\"\"\"\n",
    "servs = [4, 5, 6, 17, 8, 18, 20, 22, 14, 13, 11, 12, 15, 3, 23, 24, 25, 26]\n",
    "prodsNormales = [2, 3, 4, 5, 6, 7, 8, 23]\n",
    "prodsSpa = [14, 15, 16]\n",
    "numDoEmpleado = [1010101589, 1010101590, 1010101591, 1010101592]"
   ]
  },
  {
   "cell_type": "code",
   "execution_count": 329,
   "metadata": {},
   "outputs": [
    {
     "data": {
      "text/plain": [
       "''"
      ]
     },
     "execution_count": 329,
     "metadata": {},
     "output_type": "execute_result"
    }
   ],
   "source": [
    "\"\"\"Si el servicio es una spa, entonces tengo que coger un producto de los servicios\"\"\"\n",
    "def idProducto():\n",
    "    if idServicio() == 8:\n",
    "        a = random.randint(0,2)\n",
    "        return prodsSpa[a]\n",
    "    elif idServicio() == 3:\n",
    "        return 3\n",
    "    else:\n",
    "        return ''\n",
    "idProducto()"
   ]
  },
  {
   "cell_type": "code",
   "execution_count": 330,
   "metadata": {},
   "outputs": [],
   "source": [
    "#row = [idestadia, fechaIni, fechaFini, numPersonas, idsplanes[idPlan], numhabitaciones[numHab], checkInYPagado, checkInYPagado, idsusuariostodos[cont], '']"
   ]
  },
  {
   "cell_type": "code",
   "execution_count": 331,
   "metadata": {
    "scrolled": true
   },
   "outputs": [
    {
     "name": "stdout",
     "output_type": "stream",
     "text": [
      "[185821, '', 8, '18/02/2024', '', 6, 23, '18/02/2024']\n"
     ]
    }
   ],
   "source": [
    "print(row)"
   ]
  },
  {
   "cell_type": "code",
   "execution_count": 332,
   "metadata": {},
   "outputs": [],
   "source": [
    "a = 0\n",
    "pos = 0\n",
    "listica = []\n",
    "while(a < len(convenciones)):\n",
    "    s = idServicio()\n",
    "    row = [idhorario, '', s, listaFechasInicio[pos], '', horaInicio(), horaFin(), listaFechasFin[pos]]\n",
    "    idhorario += 1\n",
    "    listica.append(row)\n",
    "    row1 = [idhorario, '', s, convFechaInicio[pos], '', horaInicio(), horaFin(), convFechaInicio[pos]]\n",
    "    idhorario += 1\n",
    "    listica.append(row1)\n",
    "    row2 = [idhorario, '', s, convFechaFin[pos], '', horaInicio(), horaFin(), convFechaFin[pos]]\n",
    "    idhorario += 1\n",
    "    listica.append(row2)\n",
    "    pos += 1\n",
    "    a+=1"
   ]
  },
  {
   "cell_type": "code",
   "execution_count": 333,
   "metadata": {},
   "outputs": [
    {
     "name": "stdout",
     "output_type": "stream",
     "text": [
      "600\n",
      "600\n"
     ]
    }
   ],
   "source": [
    "print(len(listica))\n",
    "print(idhorario - 185224)"
   ]
  },
  {
   "cell_type": "code",
   "execution_count": 334,
   "metadata": {},
   "outputs": [],
   "source": [
    "with open('horarios-convenciones.csv', 'w') as f:\n",
    "    writer = csv.writer(f)\n",
    "    writer.writerow([\"IDHORARIO\", \"DURACION\", \"IDSERVICIO\", \"FECHAINICIO\", \"DIA\", \"HORAINICIO\", \"HORAFIN\", \"FECHAFIN\"])\n",
    "    for row in listica:\n",
    "        writer.writerow(row)\n",
    "f.close()"
   ]
  },
  {
   "cell_type": "code",
   "execution_count": null,
   "metadata": {},
   "outputs": [],
   "source": []
  }
 ],
 "metadata": {
  "kernelspec": {
   "display_name": "Python 3",
   "language": "python",
   "name": "python3"
  },
  "language_info": {
   "codemirror_mode": {
    "name": "ipython",
    "version": 3
   },
   "file_extension": ".py",
   "mimetype": "text/x-python",
   "name": "python",
   "nbconvert_exporter": "python",
   "pygments_lexer": "ipython3",
   "version": "3.6.8"
  }
 },
 "nbformat": 4,
 "nbformat_minor": 2
}
