{
 "cells": [
  {
   "cell_type": "code",
   "execution_count": 251,
   "metadata": {},
   "outputs": [],
   "source": [
    "import numpy as np\n",
    "import pandas as pd\n",
    "import random \n",
    "import time\n",
    "import datetime\n",
    "import csv\n",
    "import scipy.stats as stats"
   ]
  },
  {
   "cell_type": "code",
   "execution_count": 252,
   "metadata": {},
   "outputs": [],
   "source": [
    "numfactura = 370591"
   ]
  },
  {
   "cell_type": "code",
   "execution_count": 253,
   "metadata": {},
   "outputs": [],
   "source": [
    "estadias2017 = pd.read_csv(\"estadias-aleatorias-2017.csv\")\n",
    "fechaL2017 = estadias2017['FECHALLEGADA'].values\n",
    "fechaS2017 = estadias2017['FECHASALIDA'].values\n",
    "pagada2017 = estadias2017['PAGADO'].values\n",
    "idEstadia2017 = estadias2017['IDESTADIA'].values\n",
    "\n",
    "estadias2018 = pd.read_csv(\"estadias-aleatorias-2018.csv\")\n",
    "fechaL2018 = estadias2018['FECHALLEGADA'].values\n",
    "fechaS2018 = estadias2018['FECHASALIDA'].values\n",
    "pagada2018 = estadias2018['PAGADO'].values\n",
    "idEstadia2018 = estadias2018['IDESTADIA'].values\n",
    "\n",
    "estadias2019 = pd.read_csv(\"estadias-aleatorias-2019.csv\")\n",
    "fechaL2019 = estadias2019['FECHALLEGADA'].values\n",
    "fechaS2019 = estadias2019['FECHASALIDA'].values\n",
    "pagada2019 = estadias2019['PAGADO'].values\n",
    "idEstadia2019 = estadias2019['IDESTADIA'].values\n",
    "\n",
    "estadias2020 = pd.read_csv(\"estadias-aleatorias-2020.csv\")\n",
    "fechaL2020 = estadias2020['FECHALLEGADA'].values\n",
    "fechaS2020 = estadias2020['FECHASALIDA'].values\n",
    "pagada2020 = estadias2020['PAGADO'].values\n",
    "idEstadia2020 = estadias2020['IDESTADIA'].values\n",
    "\n",
    "estadias2021 = pd.read_csv(\"estadias-aleatorias-2021.csv\")\n",
    "fechaL2021 = estadias2021['FECHALLEGADA'].values\n",
    "fechaS2021 = estadias2021['FECHASALIDA'].values\n",
    "pagada2021 = estadias2021['PAGADO'].values\n",
    "idEstadia2021 = estadias2021['IDESTADIA'].values\n",
    "\n",
    "estadias2022 = pd.read_csv(\"estadias-aleatorias-2022.csv\")\n",
    "fechaL2022 = estadias2022['FECHALLEGADA'].values\n",
    "fechaS2022 = estadias2022['FECHASALIDA'].values\n",
    "pagada2022 = estadias2022['PAGADO'].values\n",
    "idEstadia2022 = estadias2022['IDESTADIA'].values\n",
    "\n",
    "\n",
    "estadias2023 = pd.read_csv(\"estadias-aleatorias-2023.csv\")\n",
    "fechaL2023 = estadias2023['FECHALLEGADA'].values\n",
    "fechaS2023 = estadias2023['FECHASALIDA'].values\n",
    "pagada2023 = estadias2023['PAGADO'].values\n",
    "idEstadia2023 = estadias2023['IDESTADIA'].values\n"
   ]
  },
  {
   "cell_type": "code",
   "execution_count": 254,
   "metadata": {},
   "outputs": [],
   "source": [
    "def strTimeProp(start, end, format, prop):\n",
    "\n",
    "    stime = time.mktime(time.strptime(start, format))\n",
    "    etime = time.mktime(time.strptime(end, format))\n",
    "\n",
    "    ptime = stime + prop * (etime - stime)\n",
    "\n",
    "    return time.strftime(format, time.localtime(ptime))\n",
    "\n",
    "\n",
    "def randomDate(start, end, prop):\n",
    "    return strTimeProp(start, end, '%d/%m/%Y', prop)\n"
   ]
  },
  {
   "cell_type": "code",
   "execution_count": 255,
   "metadata": {},
   "outputs": [],
   "source": [
    "idEstadias = [*idEstadia2017, *idEstadia2018, *idEstadia2019, *idEstadia2020, *idEstadia2021, *idEstadia2022, *idEstadia2023]"
   ]
  },
  {
   "cell_type": "code",
   "execution_count": 256,
   "metadata": {},
   "outputs": [],
   "source": [
    "fechasLlegada = [*fechaL2017, *fechaL2018, *fechaL2019, *fechaL2020, *fechaL2021, *fechaL2022, *fechaL2023]"
   ]
  },
  {
   "cell_type": "code",
   "execution_count": 257,
   "metadata": {},
   "outputs": [],
   "source": [
    "fechasSalida = [*fechaS2017, *fechaS2018, *fechaS2019, *fechaS2020, *fechaS2021, *fechaS2022, *fechaS2023]"
   ]
  },
  {
   "cell_type": "code",
   "execution_count": 258,
   "metadata": {},
   "outputs": [],
   "source": [
    "cont = 0\n",
    "listaFechasLlegadaAleatorias = []\n",
    "while(cont < len(fechasLlegada)):\n",
    "    fecha = randomDate(fechasLlegada[cont], fechasSalida[cont], random.random())\n",
    "    listaFechasLlegadaAleatorias.append(fecha)\n",
    "    cont += 1"
   ]
  },
  {
   "cell_type": "code",
   "execution_count": 259,
   "metadata": {},
   "outputs": [],
   "source": [
    "conti = 0\n",
    "listaFechasLlegadaAleatorias1 = []\n",
    "while(conti < len(fechasLlegada)):\n",
    "    fecha1 = randomDate(fechasLlegada[conti], fechasSalida[conti], random.random())\n",
    "    listaFechasLlegadaAleatorias1.append(fecha1)\n",
    "    conti += 1"
   ]
  },
  {
   "cell_type": "code",
   "execution_count": 260,
   "metadata": {},
   "outputs": [
    {
     "name": "stdout",
     "output_type": "stream",
     "text": [
      "92594\n",
      "92594\n"
     ]
    }
   ],
   "source": [
    "print(len(listaFechasLlegadaAleatorias))\n",
    "print(len(listaFechasLlegadaAleatorias1))"
   ]
  },
  {
   "cell_type": "code",
   "execution_count": 261,
   "metadata": {},
   "outputs": [],
   "source": [
    "pagadas = [*pagada2017, *pagada2018, *pagada2019, *pagada2020, *pagada2021, *pagada2022, *pagada2023]"
   ]
  },
  {
   "cell_type": "code",
   "execution_count": 262,
   "metadata": {},
   "outputs": [
    {
     "data": {
      "text/plain": [
       "'Aquí ya tengo todas las estadias, con sus fechas de salida, llegada y pago'"
      ]
     },
     "execution_count": 262,
     "metadata": {},
     "output_type": "execute_result"
    }
   ],
   "source": [
    "\"\"\"Aquí ya tengo todas las estadias, con sus fechas de salida, llegada y pago\"\"\""
   ]
  },
  {
   "cell_type": "code",
   "execution_count": 263,
   "metadata": {},
   "outputs": [
    {
     "name": "stdout",
     "output_type": "stream",
     "text": [
      "92594\n",
      "92594\n",
      "92594\n",
      "92594\n"
     ]
    }
   ],
   "source": [
    "print (len(idEstadias))\n",
    "print (len(fechasLlegada))\n",
    "print (len(fechasSalida))\n",
    "print (len(pagadas))"
   ]
  },
  {
   "cell_type": "code",
   "execution_count": 264,
   "metadata": {},
   "outputs": [],
   "source": [
    "\"\"\"Aquí voy a sacar un precio para el consumo de cada estadia\"\"\"\n",
    "def precio(): \n",
    "    return random.randint(1000, 1000000)"
   ]
  },
  {
   "cell_type": "code",
   "execution_count": 265,
   "metadata": {},
   "outputs": [],
   "source": [
    "\"\"\"Estos son los servicios del hotel que puedo facturar\"\"\"\n",
    "servs = [4, 5, 6, 17, 8, 18, 20, 22, 14, 13, 11, 12, 15]\n",
    "prodsNormales = [2, 3, 4, 5, 6, 7, 8, 23]\n",
    "prodsSpa = [14, 15, 16]\n",
    "numDoEmpleado = [1010101589, 1010101590, 1010101591, 1010101592]"
   ]
  },
  {
   "cell_type": "code",
   "execution_count": 266,
   "metadata": {},
   "outputs": [],
   "source": [
    "\"\"\"Usando una distribución binomial, saco un idServicio\"\"\"\n",
    "def idServicio():\n",
    "    a = random.randint(0, 12)        \n",
    "    return servs[a]"
   ]
  },
  {
   "cell_type": "code",
   "execution_count": 267,
   "metadata": {},
   "outputs": [
    {
     "data": {
      "text/plain": [
       "2"
      ]
     },
     "execution_count": 267,
     "metadata": {},
     "output_type": "execute_result"
    }
   ],
   "source": [
    "\"\"\"Si el servicio es una spa, entonces tengo que coger un producto de los servicios\"\"\"\n",
    "def idProducto():\n",
    "    if idServicio() == 8:\n",
    "        a = random.randint(0,2)\n",
    "        return prodsSpa[a]\n",
    "    else:\n",
    "        b = random.randint(0,7)\n",
    "        return prodsNormales[b]    \n",
    "idProducto()"
   ]
  },
  {
   "cell_type": "code",
   "execution_count": 268,
   "metadata": {},
   "outputs": [
    {
     "data": {
      "text/plain": [
       "1010101590"
      ]
     },
     "execution_count": 268,
     "metadata": {},
     "output_type": "execute_result"
    }
   ],
   "source": [
    "def numDocEmpleado():\n",
    "    a = random.randint(0,3)\n",
    "    return numDoEmpleado[a]\n",
    "numDocEmpleado()"
   ]
  },
  {
   "cell_type": "code",
   "execution_count": 269,
   "metadata": {},
   "outputs": [],
   "source": [
    "#row = [idestadia, fechaIni, fechaFini, numPersonas, idsplanes[idPlan], numhabitaciones[numHab], checkInYPagado, checkInYPagado, idsusuariostodos[cont], '']"
   ]
  },
  {
   "cell_type": "code",
   "execution_count": 270,
   "metadata": {},
   "outputs": [
    {
     "name": "stdout",
     "output_type": "stream",
     "text": [
      "[555777, '05/04/2023', 1, 81965, '', 13, 76041, 1010101591, 3, '', '']\n"
     ]
    }
   ],
   "source": [
    "print(row)"
   ]
  },
  {
   "cell_type": "code",
   "execution_count": 271,
   "metadata": {},
   "outputs": [],
   "source": [
    "a = 0\n",
    "pos = 0\n",
    "listica = []\n",
    "while(a < len(idEstadias)):\n",
    "    row = [numfactura, listaFechasLlegadaAleatorias[pos], pagadas[pos], precio(), '', idServicio(), idEstadias[pos], numDocEmpleado(), idProducto(), '', '']\n",
    "    numfactura += 1\n",
    "    listica.append(row)\n",
    "    row1 = [numfactura, listaFechasLlegadaAleatorias1[pos], pagadas[pos], precio(), '', idS, idEstadias[pos], numD, idP, '', '']\n",
    "    numfactura += 1\n",
    "    listica.append(row1)\n",
    "    pos += 1\n",
    "    a+=1"
   ]
  },
  {
   "cell_type": "code",
   "execution_count": 272,
   "metadata": {},
   "outputs": [
    {
     "name": "stdout",
     "output_type": "stream",
     "text": [
      "185188\n",
      "185189\n"
     ]
    }
   ],
   "source": [
    "print(len(listica))\n",
    "print(numfactura - 370590)"
   ]
  },
  {
   "cell_type": "code",
   "execution_count": 273,
   "metadata": {},
   "outputs": [],
   "source": [
    "with open('facturas-aleatorias2.csv', 'w') as f:\n",
    "    writer = csv.writer(f)\n",
    "    writer.writerow([\"NUMFACTURA\", \"FECHA\", \"FUEPAGADA\", \"PRECIO\", \"IDDOTACION\", \"IDSERVICIO\", \"IDESTADIA\", \"NUMDOCEMPLEADO\", \"IDPRODUCTO\", \"IDCONVENCION\", \"IDDOTACIONSALON\"])\n",
    "    for row in listica:\n",
    "        writer.writerow(row)\n",
    "f.close()"
   ]
  },
  {
   "cell_type": "code",
   "execution_count": null,
   "metadata": {},
   "outputs": [],
   "source": []
  }
 ],
 "metadata": {
  "kernelspec": {
   "display_name": "Python 3",
   "language": "python",
   "name": "python3"
  },
  "language_info": {
   "codemirror_mode": {
    "name": "ipython",
    "version": 3
   },
   "file_extension": ".py",
   "mimetype": "text/x-python",
   "name": "python",
   "nbconvert_exporter": "python",
   "pygments_lexer": "ipython3",
   "version": "3.6.8"
  }
 },
 "nbformat": 4,
 "nbformat_minor": 2
}
